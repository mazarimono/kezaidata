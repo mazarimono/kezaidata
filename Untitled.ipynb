{
 "cells": [
  {
   "cell_type": "code",
   "execution_count": 3,
   "metadata": {},
   "outputs": [],
   "source": [
    "import pandas as pd\n",
    "import matplotlib.pyplot as plt\n",
    "%matplotlib inline"
   ]
  },
  {
   "cell_type": "code",
   "execution_count": 4,
   "metadata": {},
   "outputs": [],
   "source": [
    "pd.set_option('max_columns', 50)"
   ]
  },
  {
   "cell_type": "code",
   "execution_count": 5,
   "metadata": {},
   "outputs": [],
   "source": [
    "df1999 = pd.read_csv('./data/jp_consumer1999.csv', index_col=0)\n",
    "df2004 = pd.read_csv('./data/jp_consumer2004.csv', index_col=0)\n",
    "df2009 = pd.read_csv('./data/jp_consumer2009.csv', index_col=[0, 1], thousands=',')\n",
    "df2014 = pd.read_csv('./data/jp_consumer2014.csv', index_col=[0, 1], thousands=',')\n",
    "\n",
    "pop2000 = pd.read_csv('./data/2000-house.csv', thousands=',' ,index_col=0)\n",
    "pop2005 = pd.read_csv('./data/2005-house.csv', thousands=',' ,index_col=0)\n",
    "pop2010 = pd.read_csv('./data/2010-house.csv', thousands=',' ,index_col=0)\n",
    "pop2015 = pd.read_csv('./data/2015-house.csv', thousands=',' ,index_col=0)\n",
    "\n",
    "peo2000 = pd.read_csv('./data/2000-popu.csv', thousands=',' ,index_col=0, header=0)\n",
    "peo2005 = pd.read_csv('./data/2005-popu.csv', thousands=',' ,index_col=0, header=0)\n",
    "peo2010 = pd.read_csv('./data/2010-popu.csv', thousands=',' ,index_col=0, header=0)\n",
    "peo2015 = pd.read_csv('./data/2015-popu.csv', thousands=',' ,index_col=0, header=0)\n",
    "\n",
    "pergdp = pd.read_csv('./data/pergdp.csv', index_col=0)\n",
    "kenpop = pd.read_csv('./data/kenpop19552014.csv', index_col=0)\n",
    "gdp = pd.read_csv('./data/ken_gdp.csv', index_col=0)"
   ]
  },
  {
   "cell_type": "code",
   "execution_count": 6,
   "metadata": {},
   "outputs": [],
   "source": [
    "dfhouse = (df2014.iloc[3, :].astype(float) - df1999.iloc[3, :].astype(float))/df1999.iloc[3, :].astype(float)\n",
    "df18 = (df2014.iloc[4, :].astype(float)- df1999.iloc[4, :].astype(float)) / df1999.iloc[4, :].astype(float)\n",
    "df65 = (df2014.iloc[5, :].astype(float) - df1999.iloc[5, :].astype(float)) / df1999.iloc[5, :].astype(float)"
   ]
  },
  {
   "cell_type": "code",
   "execution_count": 31,
   "metadata": {},
   "outputs": [
    {
     "data": {
      "image/png": "[encoded data removed]",
      "text/plain": [
       "<Figure size 1296x432 with 3 Axes>"
      ]
     },
     "metadata": {
      "needs_background": "light"
     },
     "output_type": "display_data"
    }
   ],
   "source": [
    "fig = plt.figure(figsize = (18,6))\n",
    "ax = plt.subplot(1,3,1)\n",
    "plt.scatter(dfhouse, df18)\n",
    "plt.title('全体（x軸）、18歳以下（y軸）')\n",
    "plt.grid()\n",
    "ax2 = plt.subplot(1,3,2)\n",
    "plt.scatter(dfhouse, df65)\n",
    "plt.title('全体(x軸)、65歳以上（y軸)')\n",
    "plt.grid()\n",
    "ax3 = plt.subplot(1,3,3)\n",
    "plt.scatter(df18, df65)\n",
    "plt.title('18歳以下（x軸）、65歳以上（y軸）')\n",
    "plt.grid()\n",
    "plt.show()"
   ]
  },
  {
   "cell_type": "code",
   "execution_count": 28,
   "metadata": {},
   "outputs": [],
   "source": [
    "df=pd.concat([dfhouse, df18, df65], axis=1)\n",
    "df.columns = ['全体', '18歳以下', '65歳以上']"
   ]
  },
  {
   "cell_type": "code",
   "execution_count": 29,
   "metadata": {},
   "outputs": [
    {
     "data": {
      "text/html": [
       "<div>\n",
       "<style scoped>\n",
       "    .dataframe tbody tr th:only-of-type {\n",
       "        vertical-align: middle;\n",
       "    }\n",
       "\n",
       "    .dataframe tbody tr th {\n",
       "        vertical-align: top;\n",
       "    }\n",
       "\n",
       "    .dataframe thead th {\n",
       "        text-align: right;\n",
       "    }\n",
       "</style>\n",
       "<table border=\"1\" class=\"dataframe\">\n",
       "  <thead>\n",
       "    <tr style=\"text-align: right;\">\n",
       "      <th></th>\n",
       "      <th>全体</th>\n",
       "      <th>18歳以下</th>\n",
       "      <th>65歳以上</th>\n",
       "    </tr>\n",
       "  </thead>\n",
       "  <tbody>\n",
       "    <tr>\n",
       "      <th>全体</th>\n",
       "      <td>1.000000</td>\n",
       "      <td>0.774990</td>\n",
       "      <td>-0.060198</td>\n",
       "    </tr>\n",
       "    <tr>\n",
       "      <th>18歳以下</th>\n",
       "      <td>0.774990</td>\n",
       "      <td>1.000000</td>\n",
       "      <td>-0.143587</td>\n",
       "    </tr>\n",
       "    <tr>\n",
       "      <th>65歳以上</th>\n",
       "      <td>-0.060198</td>\n",
       "      <td>-0.143587</td>\n",
       "      <td>1.000000</td>\n",
       "    </tr>\n",
       "  </tbody>\n",
       "</table>\n",
       "</div>"
      ],
      "text/plain": [
       "             全体     18歳以下     65歳以上\n",
       "全体     1.000000  0.774990 -0.060198\n",
       "18歳以下  0.774990  1.000000 -0.143587\n",
       "65歳以上 -0.060198 -0.143587  1.000000"
      ]
     },
     "execution_count": 29,
     "metadata": {},
     "output_type": "execute_result"
    }
   ],
   "source": [
    "df.corr()"
   ]
  },
  {
   "cell_type": "code",
   "execution_count": 45,
   "metadata": {},
   "outputs": [],
   "source": [
    "persalaryc = (df2014.iloc[9, :].astype(float)/ df2014.iloc[7, :].astype(float)-df1999.iloc[8, :].astype(float)/ df1999.iloc[7, :].astype(float))/df1999.iloc[8, :].astype(float)/ df1999.iloc[7, :].astype(float)\n",
    "agechange = (df2014.iloc[10, :].astype(float)-df1999.iloc[9, :].astype(float))/df1999.iloc[9, :].astype(float)\n",
    "laborpartratio = df2014.iloc[7, :].astype(float)/df2014.iloc[3, :].astype(float)"
   ]
  },
  {
   "cell_type": "code",
   "execution_count": 46,
   "metadata": {},
   "outputs": [
    {
     "data": {
      "image/png": "[encoded data removed]",
      "text/plain": [
       "<Figure size 1296x864 with 4 Axes>"
      ]
     },
     "metadata": {
      "needs_background": "light"
     },
     "output_type": "display_data"
    }
   ],
   "source": [
    "fig = plt.figure(figsize = (18,12))\n",
    "ax = plt.subplot(221)\n",
    "plt.scatter(persalaryc, laborpartratio)\n",
    "plt.title('一人当たり所得変化（x軸）、18歳以下（y軸）')\n",
    "plt.grid()\n",
    "ax2 = plt.subplot(222)\n",
    "plt.scatter(persalaryc, df65)\n",
    "plt.title('一人当たり所得変化(x軸)、65歳以上（y軸)')\n",
    "plt.grid()\n",
    "ax3 = plt.subplot(223)\n",
    "plt.scatter(persalaryc, agechange)\n",
    "plt.title('一人当たり所得変化（x軸）、世帯主の年齢変化（y軸）')\n",
    "plt.grid()\n",
    "ax3 = plt.subplot(224)\n",
    "plt.scatter(persalaryc, df2014.iloc[10, :].astype(float))\n",
    "plt.title('一人当たり所得変化（x軸）、世帯主の年齢（y軸）')\n",
    "plt.grid()\n",
    "plt.show()"
   ]
  },
  {
   "cell_type": "code",
   "execution_count": 52,
   "metadata": {},
   "outputs": [
    {
     "data": {
      "text/html": [
       "<div>\n",
       "<style scoped>\n",
       "    .dataframe tbody tr th:only-of-type {\n",
       "        vertical-align: middle;\n",
       "    }\n",
       "\n",
       "    .dataframe tbody tr th {\n",
       "        vertical-align: top;\n",
       "    }\n",
       "\n",
       "    .dataframe thead th {\n",
       "        text-align: right;\n",
       "    }\n",
       "</style>\n",
       "<table border=\"1\" class=\"dataframe\">\n",
       "  <thead>\n",
       "    <tr style=\"text-align: right;\">\n",
       "      <th></th>\n",
       "      <th>1人当たり所得変化</th>\n",
       "      <th>世帯人数変化</th>\n",
       "      <th>労働参加率</th>\n",
       "      <th>18歳以下</th>\n",
       "      <th>65歳以上</th>\n",
       "      <th>世帯主年齢変化</th>\n",
       "      <th>世帯主年齢</th>\n",
       "    </tr>\n",
       "  </thead>\n",
       "  <tbody>\n",
       "    <tr>\n",
       "      <th>1人当たり所得変化</th>\n",
       "      <td>1.000000</td>\n",
       "      <td>-0.191299</td>\n",
       "      <td>0.201520</td>\n",
       "      <td>-0.033737</td>\n",
       "      <td>-0.212275</td>\n",
       "      <td>-0.106531</td>\n",
       "      <td>-0.046989</td>\n",
       "    </tr>\n",
       "    <tr>\n",
       "      <th>世帯人数変化</th>\n",
       "      <td>-0.191299</td>\n",
       "      <td>1.000000</td>\n",
       "      <td>-0.080344</td>\n",
       "      <td>0.774990</td>\n",
       "      <td>-0.060198</td>\n",
       "      <td>-0.408877</td>\n",
       "      <td>-0.243686</td>\n",
       "    </tr>\n",
       "    <tr>\n",
       "      <th>労働参加率</th>\n",
       "      <td>0.201520</td>\n",
       "      <td>-0.080344</td>\n",
       "      <td>1.000000</td>\n",
       "      <td>0.043212</td>\n",
       "      <td>-0.657144</td>\n",
       "      <td>-0.396711</td>\n",
       "      <td>0.119902</td>\n",
       "    </tr>\n",
       "    <tr>\n",
       "      <th>18歳以下</th>\n",
       "      <td>-0.033737</td>\n",
       "      <td>0.774990</td>\n",
       "      <td>0.043212</td>\n",
       "      <td>1.000000</td>\n",
       "      <td>-0.143587</td>\n",
       "      <td>-0.536839</td>\n",
       "      <td>-0.482669</td>\n",
       "    </tr>\n",
       "    <tr>\n",
       "      <th>65歳以上</th>\n",
       "      <td>-0.212275</td>\n",
       "      <td>-0.060198</td>\n",
       "      <td>-0.657144</td>\n",
       "      <td>-0.143587</td>\n",
       "      <td>1.000000</td>\n",
       "      <td>0.668650</td>\n",
       "      <td>0.005177</td>\n",
       "    </tr>\n",
       "    <tr>\n",
       "      <th>世帯主年齢変化</th>\n",
       "      <td>-0.106531</td>\n",
       "      <td>-0.408877</td>\n",
       "      <td>-0.396711</td>\n",
       "      <td>-0.536839</td>\n",
       "      <td>0.668650</td>\n",
       "      <td>1.000000</td>\n",
       "      <td>0.531187</td>\n",
       "    </tr>\n",
       "    <tr>\n",
       "      <th>世帯主年齢</th>\n",
       "      <td>-0.046989</td>\n",
       "      <td>-0.243686</td>\n",
       "      <td>0.119902</td>\n",
       "      <td>-0.482669</td>\n",
       "      <td>0.005177</td>\n",
       "      <td>0.531187</td>\n",
       "      <td>1.000000</td>\n",
       "    </tr>\n",
       "  </tbody>\n",
       "</table>\n",
       "</div>"
      ],
      "text/plain": [
       "           1人当たり所得変化    世帯人数変化     労働参加率     18歳以下     65歳以上   世帯主年齢変化  \\\n",
       "1人当たり所得変化   1.000000 -0.191299  0.201520 -0.033737 -0.212275 -0.106531   \n",
       "世帯人数変化     -0.191299  1.000000 -0.080344  0.774990 -0.060198 -0.408877   \n",
       "労働参加率       0.201520 -0.080344  1.000000  0.043212 -0.657144 -0.396711   \n",
       "18歳以下      -0.033737  0.774990  0.043212  1.000000 -0.143587 -0.536839   \n",
       "65歳以上      -0.212275 -0.060198 -0.657144 -0.143587  1.000000  0.668650   \n",
       "世帯主年齢変化    -0.106531 -0.408877 -0.396711 -0.536839  0.668650  1.000000   \n",
       "世帯主年齢      -0.046989 -0.243686  0.119902 -0.482669  0.005177  0.531187   \n",
       "\n",
       "              世帯主年齢  \n",
       "1人当たり所得変化 -0.046989  \n",
       "世帯人数変化    -0.243686  \n",
       "労働参加率      0.119902  \n",
       "18歳以下     -0.482669  \n",
       "65歳以上      0.005177  \n",
       "世帯主年齢変化    0.531187  \n",
       "世帯主年齢      1.000000  "
      ]
     },
     "execution_count": 52,
     "metadata": {},
     "output_type": "execute_result"
    }
   ],
   "source": [
    "df1 = pd.concat([persalaryc, dfhouse, laborpartratio, df18, df65, agechange, df2014.iloc[10, :].astype(float)], axis=1)\n",
    "df1.columns = ['1人当たり所得変化', '世帯人数変化','労働参加率', '18歳以下','65歳以上', '世帯主年齢変化','世帯主年齢']\n",
    "df1.corr()"
   ]
  },
  {
   "cell_type": "code",
   "execution_count": 24,
   "metadata": {},
   "outputs": [
    {
     "name": "stderr",
     "output_type": "stream",
     "text": [
      "C:\\Users\\hogaw\\Anaconda3\\lib\\site-packages\\ipykernel_launcher.py:1: FutureWarning: Sorting because non-concatenation axis is not aligned. A future version\n",
      "of pandas will change to not sort by default.\n",
      "\n",
      "To accept the future behavior, pass 'sort=False'.\n",
      "\n",
      "To retain the current behavior and silence the warning, pass 'sort=True'.\n",
      "\n",
      "  \"\"\"Entry point for launching an IPython kernel.\n"
     ]
    },
    {
     "data": {
      "text/html": [
       "<div>\n",
       "<style scoped>\n",
       "    .dataframe tbody tr th:only-of-type {\n",
       "        vertical-align: middle;\n",
       "    }\n",
       "\n",
       "    .dataframe tbody tr th {\n",
       "        vertical-align: top;\n",
       "    }\n",
       "\n",
       "    .dataframe thead tr th {\n",
       "        text-align: left;\n",
       "    }\n",
       "</style>\n",
       "<table border=\"1\" class=\"dataframe\">\n",
       "  <thead>\n",
       "    <tr>\n",
       "      <th></th>\n",
       "      <th colspan=\"2\" halign=\"left\">二人以上の世帯</th>\n",
       "    </tr>\n",
       "    <tr>\n",
       "      <th></th>\n",
       "      <th>貯蓄現在高【千円】</th>\n",
       "      <th>貯蓄現在高【千円】</th>\n",
       "    </tr>\n",
       "  </thead>\n",
       "  <tbody>\n",
       "    <tr>\n",
       "      <th>宮崎県</th>\n",
       "      <td>NaN</td>\n",
       "      <td>10136.0</td>\n",
       "    </tr>\n",
       "    <tr>\n",
       "      <th>愛知県</th>\n",
       "      <td>18551.0</td>\n",
       "      <td>NaN</td>\n",
       "    </tr>\n",
       "    <tr>\n",
       "      <th>東京都</th>\n",
       "      <td>19669.0</td>\n",
       "      <td>NaN</td>\n",
       "    </tr>\n",
       "    <tr>\n",
       "      <th>沖縄県</th>\n",
       "      <td>NaN</td>\n",
       "      <td>5747.0</td>\n",
       "    </tr>\n",
       "    <tr>\n",
       "      <th>神奈川県</th>\n",
       "      <td>19035.0</td>\n",
       "      <td>NaN</td>\n",
       "    </tr>\n",
       "    <tr>\n",
       "      <th>福井県</th>\n",
       "      <td>18562.0</td>\n",
       "      <td>NaN</td>\n",
       "    </tr>\n",
       "    <tr>\n",
       "      <th>長崎県</th>\n",
       "      <td>NaN</td>\n",
       "      <td>10173.0</td>\n",
       "    </tr>\n",
       "    <tr>\n",
       "      <th>青森県</th>\n",
       "      <td>NaN</td>\n",
       "      <td>8624.0</td>\n",
       "    </tr>\n",
       "    <tr>\n",
       "      <th>香川県</th>\n",
       "      <td>18215.0</td>\n",
       "      <td>NaN</td>\n",
       "    </tr>\n",
       "    <tr>\n",
       "      <th>鹿児島県</th>\n",
       "      <td>NaN</td>\n",
       "      <td>9477.0</td>\n",
       "    </tr>\n",
       "  </tbody>\n",
       "</table>\n",
       "</div>"
      ],
      "text/plain": [
       "       二人以上の世帯          \n",
       "     貯蓄現在高【千円】 貯蓄現在高【千円】\n",
       "宮崎県        NaN   10136.0\n",
       "愛知県    18551.0       NaN\n",
       "東京都    19669.0       NaN\n",
       "沖縄県        NaN    5747.0\n",
       "神奈川県   19035.0       NaN\n",
       "福井県    18562.0       NaN\n",
       "長崎県        NaN   10173.0\n",
       "青森県        NaN    8624.0\n",
       "香川県    18215.0       NaN\n",
       "鹿児島県       NaN    9477.0"
      ]
     },
     "execution_count": 24,
     "metadata": {},
     "output_type": "execute_result"
    }
   ],
   "source": [
    "pd.concat([, pd.DataFrame(df2014.iloc[11, :]).astype(float).sort_values(by=pd.DataFrame(df2014.iloc[11, :]).columns[0])[:5]], axis=1)"
   ]
  },
  {
   "cell_type": "code",
   "execution_count": 46,
   "metadata": {},
   "outputs": [
    {
     "data": {
      "text/html": [
       "<div>\n",
       "<style scoped>\n",
       "    .dataframe tbody tr th:only-of-type {\n",
       "        vertical-align: middle;\n",
       "    }\n",
       "\n",
       "    .dataframe tbody tr th {\n",
       "        vertical-align: top;\n",
       "    }\n",
       "\n",
       "    .dataframe thead tr th {\n",
       "        text-align: left;\n",
       "    }\n",
       "</style>\n",
       "<table border=\"1\" class=\"dataframe\">\n",
       "  <thead>\n",
       "    <tr>\n",
       "      <th></th>\n",
       "      <th>二人以上の世帯</th>\n",
       "    </tr>\n",
       "    <tr>\n",
       "      <th></th>\n",
       "      <th>貯蓄現在高【千円】</th>\n",
       "    </tr>\n",
       "  </thead>\n",
       "  <tbody>\n",
       "    <tr>\n",
       "      <th>count</th>\n",
       "      <td>47.000000</td>\n",
       "    </tr>\n",
       "    <tr>\n",
       "      <th>mean</th>\n",
       "      <td>14497.170213</td>\n",
       "    </tr>\n",
       "    <tr>\n",
       "      <th>std</th>\n",
       "      <td>3081.897237</td>\n",
       "    </tr>\n",
       "    <tr>\n",
       "      <th>min</th>\n",
       "      <td>5747.000000</td>\n",
       "    </tr>\n",
       "    <tr>\n",
       "      <th>25%</th>\n",
       "      <td>12544.000000</td>\n",
       "    </tr>\n",
       "    <tr>\n",
       "      <th>50%</th>\n",
       "      <td>15017.000000</td>\n",
       "    </tr>\n",
       "    <tr>\n",
       "      <th>75%</th>\n",
       "      <td>16821.000000</td>\n",
       "    </tr>\n",
       "    <tr>\n",
       "      <th>max</th>\n",
       "      <td>19669.000000</td>\n",
       "    </tr>\n",
       "  </tbody>\n",
       "</table>\n",
       "</div>"
      ],
      "text/plain": [
       "            二人以上の世帯\n",
       "          貯蓄現在高【千円】\n",
       "count     47.000000\n",
       "mean   14497.170213\n",
       "std     3081.897237\n",
       "min     5747.000000\n",
       "25%    12544.000000\n",
       "50%    15017.000000\n",
       "75%    16821.000000\n",
       "max    19669.000000"
      ]
     },
     "execution_count": 46,
     "metadata": {},
     "output_type": "execute_result"
    }
   ],
   "source": [
    "pd.DataFrame(df2014.iloc[11, :]).astype(float).describe()"
   ]
  },
  {
   "cell_type": "code",
   "execution_count": 41,
   "metadata": {},
   "outputs": [
    {
     "data": {
      "text/html": [
       "<div>\n",
       "<style scoped>\n",
       "    .dataframe tbody tr th:only-of-type {\n",
       "        vertical-align: middle;\n",
       "    }\n",
       "\n",
       "    .dataframe tbody tr th {\n",
       "        vertical-align: top;\n",
       "    }\n",
       "\n",
       "    .dataframe thead tr th {\n",
       "        text-align: left;\n",
       "    }\n",
       "</style>\n",
       "<table border=\"1\" class=\"dataframe\">\n",
       "  <thead>\n",
       "    <tr>\n",
       "      <th></th>\n",
       "      <th>二人以上の世帯</th>\n",
       "    </tr>\n",
       "    <tr>\n",
       "      <th></th>\n",
       "      <th>貯蓄現在高【千円】</th>\n",
       "    </tr>\n",
       "  </thead>\n",
       "  <tbody>\n",
       "    <tr>\n",
       "      <th>沖縄県</th>\n",
       "      <td>5747.0</td>\n",
       "    </tr>\n",
       "    <tr>\n",
       "      <th>青森県</th>\n",
       "      <td>8624.0</td>\n",
       "    </tr>\n",
       "    <tr>\n",
       "      <th>鹿児島県</th>\n",
       "      <td>9477.0</td>\n",
       "    </tr>\n",
       "    <tr>\n",
       "      <th>宮崎県</th>\n",
       "      <td>10136.0</td>\n",
       "    </tr>\n",
       "    <tr>\n",
       "      <th>長崎県</th>\n",
       "      <td>10173.0</td>\n",
       "    </tr>\n",
       "    <tr>\n",
       "      <th>秋田県</th>\n",
       "      <td>10419.0</td>\n",
       "    </tr>\n",
       "    <tr>\n",
       "      <th>大分県</th>\n",
       "      <td>11336.0</td>\n",
       "    </tr>\n",
       "    <tr>\n",
       "      <th>福岡県</th>\n",
       "      <td>11804.0</td>\n",
       "    </tr>\n",
       "    <tr>\n",
       "      <th>熊本県</th>\n",
       "      <td>11865.0</td>\n",
       "    </tr>\n",
       "    <tr>\n",
       "      <th>北海道</th>\n",
       "      <td>11918.0</td>\n",
       "    </tr>\n",
       "  </tbody>\n",
       "</table>\n",
       "</div>"
      ],
      "text/plain": [
       "       二人以上の世帯\n",
       "     貯蓄現在高【千円】\n",
       "沖縄県     5747.0\n",
       "青森県     8624.0\n",
       "鹿児島県    9477.0\n",
       "宮崎県    10136.0\n",
       "長崎県    10173.0\n",
       "秋田県    10419.0\n",
       "大分県    11336.0\n",
       "福岡県    11804.0\n",
       "熊本県    11865.0\n",
       "北海道    11918.0"
      ]
     },
     "execution_count": 41,
     "metadata": {},
     "output_type": "execute_result"
    }
   ],
   "source": [
    "pd.DataFrame(df2014.iloc[11, :]).astype(float).sort_values(by=pd.DataFrame(df2014.iloc[11, :]).columns[0])[:10]"
   ]
  },
  {
   "cell_type": "code",
   "execution_count": 44,
   "metadata": {},
   "outputs": [
    {
     "data": {
      "text/plain": [
       "群馬県   -3794.0\n",
       "京都府   -1938.0\n",
       "石川県   -1748.0\n",
       "岐阜県   -1242.0\n",
       "福井県    -888.0\n",
       "dtype: float64"
      ]
     },
     "execution_count": 44,
     "metadata": {},
     "output_type": "execute_result"
    }
   ],
   "source": [
    "zandakac = df2014.iloc[11, :].astype(float)-df1999.iloc[10, :].astype(float)\n",
    "zandakac.sort_values()[:5]"
   ]
  },
  {
   "cell_type": "code",
   "execution_count": 45,
   "metadata": {},
   "outputs": [
    {
     "data": {
      "text/plain": [
       "山口県     3528.0\n",
       "島根県     3346.0\n",
       "和歌山県    3078.0\n",
       "奈良県     1886.0\n",
       "愛知県     1815.0\n",
       "dtype: float64"
      ]
     },
     "execution_count": 45,
     "metadata": {},
     "output_type": "execute_result"
    }
   ],
   "source": [
    "zandakac.sort_values(ascending=False)[:5]"
   ]
  },
  {
   "cell_type": "code",
   "execution_count": 48,
   "metadata": {},
   "outputs": [
    {
     "data": {
      "text/plain": [
       "count      47.000000\n",
       "mean      379.191489\n",
       "std      1335.104957\n",
       "min     -3794.000000\n",
       "25%      -245.000000\n",
       "50%       217.000000\n",
       "75%      1405.000000\n",
       "max      3528.000000\n",
       "dtype: float64"
      ]
     },
     "execution_count": 48,
     "metadata": {},
     "output_type": "execute_result"
    }
   ],
   "source": [
    "zandakac.describe()"
   ]
  },
  {
   "cell_type": "code",
   "execution_count": 51,
   "metadata": {},
   "outputs": [
    {
     "data": {
      "text/plain": [
       "島根県    2110.0\n",
       "長崎県    2279.0\n",
       "高知県    2660.0\n",
       "香川県    2782.0\n",
       "徳島県    2880.0\n",
       "Name: (二人以上の世帯, 負債現在高うち住宅・土地のための負債【千円】), dtype: float64"
      ]
     },
     "execution_count": 51,
     "metadata": {},
     "output_type": "execute_result"
    }
   ],
   "source": [
    "df2014.iloc[27, :].astype(float).sort_values()[:5]"
   ]
  },
  {
   "cell_type": "code",
   "execution_count": 52,
   "metadata": {},
   "outputs": [
    {
     "data": {
      "text/plain": [
       "東京都     6951.0\n",
       "神奈川県    6596.0\n",
       "埼玉県     5326.0\n",
       "千葉県     4927.0\n",
       "愛知県     4778.0\n",
       "Name: (二人以上の世帯, 負債現在高うち住宅・土地のための負債【千円】), dtype: float64"
      ]
     },
     "execution_count": 52,
     "metadata": {},
     "output_type": "execute_result"
    }
   ],
   "source": [
    "df2014.iloc[27, :].astype(float).sort_values(ascending=False)[:5]"
   ]
  },
  {
   "cell_type": "code",
   "execution_count": 55,
   "metadata": {},
   "outputs": [
    {
     "data": {
      "text/plain": [
       "count      47.000000\n",
       "mean     4296.808511\n",
       "std      1016.340636\n",
       "min      2815.000000\n",
       "25%      3756.500000\n",
       "50%      3968.000000\n",
       "75%      4686.500000\n",
       "max      7003.000000\n",
       "Name: うち住宅、土地のための負債, dtype: float64"
      ]
     },
     "execution_count": 55,
     "metadata": {},
     "output_type": "execute_result"
    }
   ],
   "source": [
    "df1999.iloc[26, :].astype(float).describe()"
   ]
  },
  {
   "cell_type": "code",
   "execution_count": 53,
   "metadata": {},
   "outputs": [
    {
     "data": {
      "text/plain": [
       "count      47.000000\n",
       "mean     3868.574468\n",
       "std       925.200184\n",
       "min      2110.000000\n",
       "25%      3390.000000\n",
       "50%      3748.000000\n",
       "75%      4296.000000\n",
       "max      6951.000000\n",
       "Name: (二人以上の世帯, 負債現在高うち住宅・土地のための負債【千円】), dtype: float64"
      ]
     },
     "execution_count": 53,
     "metadata": {},
     "output_type": "execute_result"
    }
   ],
   "source": [
    "df2014.iloc[27, :].astype(float).describe()"
   ]
  },
  {
   "cell_type": "code",
   "execution_count": 56,
   "metadata": {},
   "outputs": [
    {
     "data": {
      "text/plain": [
       "count      47.000000\n",
       "mean     -428.234043\n",
       "std       656.652254\n",
       "min     -1820.000000\n",
       "25%      -872.500000\n",
       "50%      -407.000000\n",
       "75%      -132.000000\n",
       "max      1188.000000\n",
       "dtype: float64"
      ]
     },
     "execution_count": 56,
     "metadata": {},
     "output_type": "execute_result"
    }
   ],
   "source": [
    "debtchange = df2014.iloc[27, :].astype(float)-df1999.iloc[26, :].astype(float)\n",
    "\n",
    "(df2014.iloc[27, :].astype(float)-df1999.iloc[26, :].astype(float)).describe()"
   ]
  },
  {
   "cell_type": "code",
   "execution_count": 59,
   "metadata": {},
   "outputs": [
    {
     "data": {
      "text/plain": [
       "熊本県     1188.0\n",
       "鹿児島県    1021.0\n",
       "東京都      849.0\n",
       "群馬県      689.0\n",
       "福島県      426.0\n",
       "dtype: float64"
      ]
     },
     "execution_count": 59,
     "metadata": {},
     "output_type": "execute_result"
    }
   ],
   "source": [
    "debtchange.sort_values(ascending=False)[:5]"
   ]
  },
  {
   "cell_type": "code",
   "execution_count": 60,
   "metadata": {},
   "outputs": [
    {
     "data": {
      "text/plain": [
       "長崎県   -1820.0\n",
       "奈良県   -1812.0\n",
       "千葉県   -1319.0\n",
       "大阪府   -1272.0\n",
       "埼玉県   -1270.0\n",
       "dtype: float64"
      ]
     },
     "execution_count": 60,
     "metadata": {},
     "output_type": "execute_result"
    }
   ],
   "source": [
    "debtchange.sort_values()[:5]"
   ]
  },
  {
   "cell_type": "code",
   "execution_count": 64,
   "metadata": {},
   "outputs": [],
   "source": [
    "realAsset = (df2014.iloc[11, :].astype(float)-df2014.iloc[27, :].astype(float))-(df1999.iloc[10, :].astype(float)-df1999.iloc[26, :].astype(float))"
   ]
  },
  {
   "cell_type": "code",
   "execution_count": 65,
   "metadata": {},
   "outputs": [
    {
     "data": {
      "text/plain": [
       "count      47.000000\n",
       "mean      807.425532\n",
       "std      1609.768249\n",
       "min     -4483.000000\n",
       "25%        35.000000\n",
       "50%       567.000000\n",
       "75%      1748.500000\n",
       "max      4386.000000\n",
       "dtype: float64"
      ]
     },
     "execution_count": 65,
     "metadata": {},
     "output_type": "execute_result"
    }
   ],
   "source": [
    "realAsset.describe()"
   ]
  },
  {
   "cell_type": "code",
   "execution_count": 66,
   "metadata": {},
   "outputs": [
    {
     "data": {
      "text/plain": [
       "count       47.000000\n",
       "mean     10628.595745\n",
       "std       2865.533683\n",
       "min       1487.000000\n",
       "25%       8742.000000\n",
       "50%      10782.000000\n",
       "75%      12792.500000\n",
       "max      15433.000000\n",
       "dtype: float64"
      ]
     },
     "execution_count": 66,
     "metadata": {},
     "output_type": "execute_result"
    }
   ],
   "source": [
    "(df2014.iloc[11, :].astype(float)-df2014.iloc[27, :].astype(float)).describe()"
   ]
  },
  {
   "cell_type": "code",
   "execution_count": 67,
   "metadata": {},
   "outputs": [
    {
     "data": {
      "text/plain": [
       "沖縄県     1487.0\n",
       "青森県     5380.0\n",
       "鹿児島県    5469.0\n",
       "秋田県     7005.0\n",
       "宮崎県     7039.0\n",
       "dtype: float64"
      ]
     },
     "execution_count": 67,
     "metadata": {},
     "output_type": "execute_result"
    }
   ],
   "source": [
    "(df2014.iloc[11, :].astype(float)-df2014.iloc[27, :].astype(float)).sort_values()[:5]"
   ]
  },
  {
   "cell_type": "code",
   "execution_count": 69,
   "metadata": {},
   "outputs": [
    {
     "data": {
      "text/plain": [
       "香川県     15433.0\n",
       "福井県     14864.0\n",
       "島根県     14530.0\n",
       "和歌山県    14242.0\n",
       "奈良県     13937.0\n",
       "dtype: float64"
      ]
     },
     "execution_count": 69,
     "metadata": {},
     "output_type": "execute_result"
    }
   ],
   "source": [
    "(df2014.iloc[11, :].astype(float)-df2014.iloc[27, :].astype(float)).sort_values(ascending=False)[:5]"
   ]
  },
  {
   "cell_type": "code",
   "execution_count": 71,
   "metadata": {},
   "outputs": [
    {
     "data": {
      "text/plain": [
       "沖縄県      1487.0\n",
       "青森県      5380.0\n",
       "鹿児島県     5469.0\n",
       "秋田県      7005.0\n",
       "宮崎県      7039.0\n",
       "熊本県      7535.0\n",
       "長崎県      7894.0\n",
       "宮城県      8191.0\n",
       "北海道      8247.0\n",
       "大分県      8439.0\n",
       "福岡県      8494.0\n",
       "福島県      8720.0\n",
       "群馬県      8764.0\n",
       "山形県      8841.0\n",
       "愛媛県      9092.0\n",
       "岩手県      9236.0\n",
       "山梨県      9564.0\n",
       "佐賀県      9611.0\n",
       "京都府      9709.0\n",
       "高知県      9937.0\n",
       "新潟県     10198.0\n",
       "大阪府     10335.0\n",
       "栃木県     10659.0\n",
       "静岡県     10782.0\n",
       "埼玉県     11163.0\n",
       "茨城県     11328.0\n",
       "鳥取県     11611.0\n",
       "徳島県     11859.0\n",
       "滋賀県     11863.0\n",
       "長野県     12059.0\n",
       "兵庫県     12358.0\n",
       "神奈川県    12439.0\n",
       "石川県     12534.0\n",
       "千葉県     12552.0\n",
       "東京都     12718.0\n",
       "岡山県     12867.0\n",
       "三重県     12947.0\n",
       "岐阜県     13116.0\n",
       "広島県     13479.0\n",
       "山口県     13549.0\n",
       "富山県     13695.0\n",
       "愛知県     13773.0\n",
       "奈良県     13937.0\n",
       "和歌山県    14242.0\n",
       "島根県     14530.0\n",
       "福井県     14864.0\n",
       "香川県     15433.0\n",
       "dtype: float64"
      ]
     },
     "execution_count": 71,
     "metadata": {},
     "output_type": "execute_result"
    }
   ],
   "source": [
    "(df2014.iloc[11, :].astype(float)-df2014.iloc[27, :].astype(float)).sort_values()"
   ]
  },
  {
   "cell_type": "code",
   "execution_count": 74,
   "metadata": {},
   "outputs": [
    {
     "data": {
      "text/plain": [
       "鹿児島県    508.0\n",
       "青森県     572.0\n",
       "岩手県     716.0\n",
       "北海道     744.0\n",
       "沖縄県     745.0\n",
       "Name: (二人以上の世帯, 貯蓄現在高　有価証券【千円】), dtype: float64"
      ]
     },
     "execution_count": 74,
     "metadata": {},
     "output_type": "execute_result"
    }
   ],
   "source": [
    "df2014.iloc[19, :].astype(float).sort_values()[:5]"
   ]
  },
  {
   "cell_type": "code",
   "execution_count": 75,
   "metadata": {},
   "outputs": [
    {
     "data": {
      "text/plain": [
       "東京都     4303.0\n",
       "神奈川県    3221.0\n",
       "愛知県     3034.0\n",
       "千葉県     2745.0\n",
       "兵庫県     2577.0\n",
       "Name: (二人以上の世帯, 貯蓄現在高　有価証券【千円】), dtype: float64"
      ]
     },
     "execution_count": 75,
     "metadata": {},
     "output_type": "execute_result"
    }
   ],
   "source": [
    "df2014.iloc[19, :].astype(float).sort_values(ascending=False)[:5]"
   ]
  },
  {
   "cell_type": "code",
   "execution_count": 76,
   "metadata": {},
   "outputs": [
    {
     "data": {
      "text/plain": [
       "count      47.000000\n",
       "mean     1642.255319\n",
       "std       802.469002\n",
       "min       508.000000\n",
       "25%      1079.000000\n",
       "50%      1514.000000\n",
       "75%      2208.000000\n",
       "max      4303.000000\n",
       "Name: (二人以上の世帯, 貯蓄現在高　有価証券【千円】), dtype: float64"
      ]
     },
     "execution_count": 76,
     "metadata": {},
     "output_type": "execute_result"
    }
   ],
   "source": [
    "df2014.iloc[19, :].astype(float).describe()"
   ]
  },
  {
   "cell_type": "code",
   "execution_count": 78,
   "metadata": {},
   "outputs": [
    {
     "data": {
      "text/plain": [
       "count      47.000000\n",
       "mean      330.446809\n",
       "std       374.284117\n",
       "min      -927.000000\n",
       "25%        81.000000\n",
       "50%       296.000000\n",
       "75%       563.000000\n",
       "max      1226.000000\n",
       "dtype: float64"
      ]
     },
     "execution_count": 78,
     "metadata": {},
     "output_type": "execute_result"
    }
   ],
   "source": [
    "secritiesChange = df2014.iloc[19, :].astype(float)-df1999.iloc[20, :].astype(float)\n",
    "secritiesChange.describe()"
   ]
  },
  {
   "cell_type": "code",
   "execution_count": 79,
   "metadata": {},
   "outputs": [
    {
     "data": {
      "text/plain": [
       "京都府   -927.0\n",
       "大分県   -117.0\n",
       "群馬県   -102.0\n",
       "静岡県    -83.0\n",
       "岩手県    -62.0\n",
       "dtype: float64"
      ]
     },
     "execution_count": 79,
     "metadata": {},
     "output_type": "execute_result"
    }
   ],
   "source": [
    "secritiesChange.sort_values()[:5]"
   ]
  },
  {
   "cell_type": "code",
   "execution_count": 80,
   "metadata": {},
   "outputs": [
    {
     "data": {
      "text/plain": [
       "東京都     1226.0\n",
       "和歌山県    1018.0\n",
       "三重県      883.0\n",
       "徳島県      871.0\n",
       "埼玉県      863.0\n",
       "dtype: float64"
      ]
     },
     "execution_count": 80,
     "metadata": {},
     "output_type": "execute_result"
    }
   ],
   "source": [
    "secritiesChange.sort_values(ascending=False)[:5]"
   ]
  },
  {
   "cell_type": "code",
   "execution_count": 81,
   "metadata": {},
   "outputs": [
    {
     "data": {
      "text/plain": [
       "count      47.000000\n",
       "mean     1138.468085\n",
       "std       592.361151\n",
       "min       327.000000\n",
       "25%       632.000000\n",
       "50%      1018.000000\n",
       "75%      1481.500000\n",
       "max      3108.000000\n",
       "Name: (二人以上の世帯, 貯蓄現在高　有価証券　株式・株式投資信託【千円】), dtype: float64"
      ]
     },
     "execution_count": 81,
     "metadata": {},
     "output_type": "execute_result"
    }
   ],
   "source": [
    "df2014.iloc[20, :].astype(float).describe()"
   ]
  },
  {
   "cell_type": "code",
   "execution_count": 83,
   "metadata": {},
   "outputs": [
    {
     "data": {
      "text/plain": [
       "鹿児島県    327.0\n",
       "青森県     399.0\n",
       "長崎県     418.0\n",
       "北海道     427.0\n",
       "秋田県     476.0\n",
       "Name: (二人以上の世帯, 貯蓄現在高　有価証券　株式・株式投資信託【千円】), dtype: float64"
      ]
     },
     "execution_count": 83,
     "metadata": {},
     "output_type": "execute_result"
    }
   ],
   "source": [
    "df2014.iloc[20, :].astype(float).sort_values()[:5]"
   ]
  },
  {
   "cell_type": "code",
   "execution_count": 84,
   "metadata": {},
   "outputs": [
    {
     "data": {
      "text/plain": [
       "東京都     3108.0\n",
       "神奈川県    2189.0\n",
       "愛知県     2173.0\n",
       "三重県     1912.0\n",
       "千葉県     1890.0\n",
       "Name: (二人以上の世帯, 貯蓄現在高　有価証券　株式・株式投資信託【千円】), dtype: float64"
      ]
     },
     "execution_count": 84,
     "metadata": {},
     "output_type": "execute_result"
    }
   ],
   "source": [
    "df2014.iloc[20, :].astype(float).sort_values(ascending=False)[:5]"
   ]
  },
  {
   "cell_type": "code",
   "execution_count": 112,
   "metadata": {},
   "outputs": [
    {
     "data": {
      "text/plain": [
       "山梨県    -207.0\n",
       "京都府    -163.0\n",
       "大分県      23.0\n",
       "新潟県      44.0\n",
       "群馬県      60.0\n",
       "鹿児島県     62.0\n",
       "石川県      68.0\n",
       "福島県      90.0\n",
       "青森県     126.0\n",
       "福岡県     128.0\n",
       "dtype: float64"
      ]
     },
     "execution_count": 112,
     "metadata": {},
     "output_type": "execute_result"
    }
   ],
   "source": [
    "(df2014.iloc[20, :].astype(float)-df1999.iloc[21, :].astype(float)).sort_values()[:10]"
   ]
  },
  {
   "cell_type": "code",
   "execution_count": 113,
   "metadata": {},
   "outputs": [
    {
     "data": {
      "text/plain": [
       "東京都     1268.0\n",
       "和歌山県    1119.0\n",
       "三重県      895.0\n",
       "徳島県      718.0\n",
       "兵庫県      712.0\n",
       "山口県      644.0\n",
       "岐阜県      623.0\n",
       "奈良県      603.0\n",
       "広島県      600.0\n",
       "埼玉県      588.0\n",
       "dtype: float64"
      ]
     },
     "execution_count": 113,
     "metadata": {},
     "output_type": "execute_result"
    }
   ],
   "source": [
    "(df2014.iloc[20, :].astype(float)-df1999.iloc[21, :].astype(float)).sort_values(ascending=False)[:10]"
   ]
  },
  {
   "cell_type": "code",
   "execution_count": 90,
   "metadata": {},
   "outputs": [
    {
     "data": {
      "text/plain": [
       "count      47.000000\n",
       "mean      362.617021\n",
       "std       295.176407\n",
       "min      -207.000000\n",
       "25%       166.500000\n",
       "50%       328.000000\n",
       "75%       529.500000\n",
       "max      1268.000000\n",
       "dtype: float64"
      ]
     },
     "execution_count": 90,
     "metadata": {},
     "output_type": "execute_result"
    }
   ],
   "source": [
    "(df2014.iloc[20, :].astype(float)-df1999.iloc[21, :].astype(float)).describe()"
   ]
  },
  {
   "cell_type": "code",
   "execution_count": 109,
   "metadata": {},
   "outputs": [],
   "source": [
    "equData = (df2014.iloc[20, :].astype(float)-df1999.iloc[21, :].astype(float))/df1999.iloc[21, :].astype(float)\n",
    "equDataA = pd.DataFrame(equData.sort_values(ascending=False)[:10])\n",
    "equDataD = pd.DataFrame(equData.sort_values()[:10])\n",
    "equDataA['area'] = equDataA.index\n",
    "equDataA['area1'] = equDataD.index\n",
    "equDataA['value1'] = equDataD[0].values\n",
    "equDataA.columns = ['value', 'area', 'area1', 'value1']\n",
    "equDataA = equDataA[['area', 'value', 'area1', 'value1']]\n",
    "equDataA.index = [i for i in range(1, len(equDataA)+1)]"
   ]
  },
  {
   "cell_type": "code",
   "execution_count": 110,
   "metadata": {},
   "outputs": [
    {
     "data": {
      "text/html": [
       "<div>\n",
       "<style scoped>\n",
       "    .dataframe tbody tr th:only-of-type {\n",
       "        vertical-align: middle;\n",
       "    }\n",
       "\n",
       "    .dataframe tbody tr th {\n",
       "        vertical-align: top;\n",
       "    }\n",
       "\n",
       "    .dataframe thead th {\n",
       "        text-align: right;\n",
       "    }\n",
       "</style>\n",
       "<table border=\"1\" class=\"dataframe\">\n",
       "  <thead>\n",
       "    <tr style=\"text-align: right;\">\n",
       "      <th></th>\n",
       "      <th>area</th>\n",
       "      <th>value</th>\n",
       "      <th>area1</th>\n",
       "      <th>value1</th>\n",
       "    </tr>\n",
       "  </thead>\n",
       "  <tbody>\n",
       "    <tr>\n",
       "      <th>1</th>\n",
       "      <td>沖縄県</td>\n",
       "      <td>6.269231</td>\n",
       "      <td>山梨県</td>\n",
       "      <td>-0.264706</td>\n",
       "    </tr>\n",
       "    <tr>\n",
       "      <th>2</th>\n",
       "      <td>和歌山県</td>\n",
       "      <td>1.556328</td>\n",
       "      <td>京都府</td>\n",
       "      <td>-0.124809</td>\n",
       "    </tr>\n",
       "    <tr>\n",
       "      <th>3</th>\n",
       "      <td>熊本県</td>\n",
       "      <td>1.490085</td>\n",
       "      <td>大分県</td>\n",
       "      <td>0.048626</td>\n",
       "    </tr>\n",
       "    <tr>\n",
       "      <th>4</th>\n",
       "      <td>佐賀県</td>\n",
       "      <td>1.108407</td>\n",
       "      <td>石川県</td>\n",
       "      <td>0.071579</td>\n",
       "    </tr>\n",
       "    <tr>\n",
       "      <th>5</th>\n",
       "      <td>山口県</td>\n",
       "      <td>1.095238</td>\n",
       "      <td>群馬県</td>\n",
       "      <td>0.072029</td>\n",
       "    </tr>\n",
       "    <tr>\n",
       "      <th>6</th>\n",
       "      <td>宮崎県</td>\n",
       "      <td>1.053191</td>\n",
       "      <td>新潟県</td>\n",
       "      <td>0.089249</td>\n",
       "    </tr>\n",
       "    <tr>\n",
       "      <th>7</th>\n",
       "      <td>島根県</td>\n",
       "      <td>1.052966</td>\n",
       "      <td>福井県</td>\n",
       "      <td>0.117602</td>\n",
       "    </tr>\n",
       "    <tr>\n",
       "      <th>8</th>\n",
       "      <td>徳島県</td>\n",
       "      <td>1.016997</td>\n",
       "      <td>静岡県</td>\n",
       "      <td>0.173077</td>\n",
       "    </tr>\n",
       "    <tr>\n",
       "      <th>9</th>\n",
       "      <td>栃木県</td>\n",
       "      <td>0.977982</td>\n",
       "      <td>福島県</td>\n",
       "      <td>0.210773</td>\n",
       "    </tr>\n",
       "    <tr>\n",
       "      <th>10</th>\n",
       "      <td>秋田県</td>\n",
       "      <td>0.950820</td>\n",
       "      <td>滋賀県</td>\n",
       "      <td>0.216319</td>\n",
       "    </tr>\n",
       "  </tbody>\n",
       "</table>\n",
       "</div>"
      ],
      "text/plain": [
       "    area     value area1    value1\n",
       "1    沖縄県  6.269231   山梨県 -0.264706\n",
       "2   和歌山県  1.556328   京都府 -0.124809\n",
       "3    熊本県  1.490085   大分県  0.048626\n",
       "4    佐賀県  1.108407   石川県  0.071579\n",
       "5    山口県  1.095238   群馬県  0.072029\n",
       "6    宮崎県  1.053191   新潟県  0.089249\n",
       "7    島根県  1.052966   福井県  0.117602\n",
       "8    徳島県  1.016997   静岡県  0.173077\n",
       "9    栃木県  0.977982   福島県  0.210773\n",
       "10   秋田県  0.950820   滋賀県  0.216319"
      ]
     },
     "execution_count": 110,
     "metadata": {},
     "output_type": "execute_result"
    }
   ],
   "source": [
    "equDataA"
   ]
  },
  {
   "cell_type": "code",
   "execution_count": 111,
   "metadata": {},
   "outputs": [
    {
     "data": {
      "text/plain": [
       "count    47.000000\n",
       "mean      0.639951\n",
       "std       0.926187\n",
       "min      -0.264706\n",
       "25%       0.253851\n",
       "50%       0.461538\n",
       "75%       0.775041\n",
       "max       6.269231\n",
       "dtype: float64"
      ]
     },
     "execution_count": 111,
     "metadata": {},
     "output_type": "execute_result"
    }
   ],
   "source": [
    "equData.describe()"
   ]
  },
  {
   "cell_type": "code",
   "execution_count": null,
   "metadata": {},
   "outputs": [],
   "source": []
  }
 ],
 "metadata": {
  "kernelspec": {
   "display_name": "Python 3",
   "language": "python",
   "name": "python3"
  },
  "language_info": {
   "codemirror_mode": {
    "name": "ipython",
    "version": 3
   },
   "file_extension": ".py",
   "mimetype": "text/x-python",
   "name": "python",
   "nbconvert_exporter": "python",
   "pygments_lexer": "ipython3",
   "version": "3.7.0"
  }
 },
 "nbformat": 4,
 "nbformat_minor": 2
}
